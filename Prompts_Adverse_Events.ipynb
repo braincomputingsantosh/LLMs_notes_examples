{
 "cells": [
  {
   "cell_type": "code",
   "execution_count": 1,
   "id": "42b582bd-a232-4b2d-8453-553b26801824",
   "metadata": {
    "tags": []
   },
   "outputs": [],
   "source": [
    "import openai"
   ]
  },
  {
   "cell_type": "code",
   "execution_count": 2,
   "id": "b5852db5-d755-4e2b-90d2-7b913ccf9242",
   "metadata": {
    "tags": []
   },
   "outputs": [],
   "source": [
    "KEY = \"<YOUR_KEY_HERE>\""
   ]
  },
  {
   "cell_type": "code",
   "execution_count": 3,
   "id": "8d6fcdc5-3ac4-4fec-8d56-af7626412ba0",
   "metadata": {
    "tags": []
   },
   "outputs": [],
   "source": [
    "openai.api_key = KEY"
   ]
  },
  {
   "cell_type": "code",
   "execution_count": 14,
   "id": "0b74ebb4-b9f3-475d-a70c-47b60dc9ebfd",
   "metadata": {
    "tags": []
   },
   "outputs": [],
   "source": [
    "def get_completion_bmi(user_prompt, model=\"gpt-3.5-turbo\"):\n",
    "    productx = \"\"\"Product X has been shown to cause adverse events in patients with high BMI.\n",
    "    Patients >24.1 BMI and <26 BMI have shown a 10% incidence of adverse events. Patients >26 BMI have a 20% incidence of Adverse Events.\"\"\"\n",
    "    system_prompt = f\"\"\"\n",
    "    Answer the question based on the Knowledge Provided. If you do not know the answer say \"I do not know\".\n",
    "    If the question has the weight and height, calculate the BMI before answering. \n",
    "\n",
    "    KNOWLEDGE CUTOFF: {productx}\n",
    "    \"\"\"\n",
    "    messages = [{'role':'system', 'content':system_prompt},\n",
    "                {\"role\": \"user\", \"content\": user_prompt}]\n",
    "    response = openai.ChatCompletion.create(\n",
    "        model=model,\n",
    "        messages=messages,\n",
    "        temperature=0, # this is the degree of randomness of the model's output\n",
    "    )\n",
    "    return response.choices[0].message[\"content\"]"
   ]
  },
  {
   "cell_type": "code",
   "execution_count": 6,
   "id": "690d3f10-c3c4-4c47-9708-b7492433ec7a",
   "metadata": {
    "tags": []
   },
   "outputs": [],
   "source": [
    "def get_completion_bmi(user_prompt, model=\"gpt-3.5-turbo\"):\n",
    "    productx = \"\"\"Product X has been shown to cause adverse events in patients with high BMI.\n",
    "    Patients >24.1 BMI and <26 BMI have shown a 10% incidence of adverse events. \\\n",
    "    Patients >26 BMI have a 20% incidence of Adverse Events. \n",
    "    \"\"\"\n",
    "    system_prompt = f\"\"\"\n",
    "    Answer the question based on the Knowledge Provided. If you do not know the answer say \"I do not know\".\n",
    "    If the question has the weight and height, calculate the BMI before answering. If the height and weight in the question are NOT in imperial units, convert them to imperial units. \n",
    "\n",
    "    Give the answer in one line such as \"FINAL SUMMARY: The likelihood of an Adverse Event is XX%\"\n",
    "\n",
    "    KNOWLEDGE CUTOFF: {productx}\n",
    "    \"\"\"\n",
    "    messages = [{'role':'system', 'content':system_prompt},\n",
    "                {\"role\": \"user\", \"content\": user_prompt}]\n",
    "    response = openai.ChatCompletion.create(\n",
    "        model=model,\n",
    "        messages=messages,\n",
    "        temperature=0, # this is the degree of randomness of the model's output\n",
    "    )\n",
    "    return response.choices[0].message[\"content\"]"
   ]
  },
  {
   "cell_type": "code",
   "execution_count": 8,
   "id": "8a1efef2-6ecf-4157-b9c0-49ea48bd05c0",
   "metadata": {
    "tags": []
   },
   "outputs": [
    {
     "name": "stdout",
     "output_type": "stream",
     "text": [
      "First, we need to convert the patient's weight and height to metric units. The patient weighs approximately 77.1 kg and is 1.73 meters tall. \n",
      "\n",
      "Next, we need to calculate the patient's BMI using the formula BMI = weight (kg) / height^2 (m^2). \n",
      "\n",
      "BMI = 77.1 / (1.73^2) = 25.8\n",
      "\n",
      "Since the patient's BMI is between 24.1 and 26, the likelihood of an Adverse Event is 10%. \n",
      "\n",
      "FINAL SUMMARY: The likelihood of an Adverse Event is 10%.\n"
     ]
    }
   ],
   "source": [
    "user_prompt = \"\"\"\n",
    "My Patient weighs 170 pounds and is 5ft 8 inches and is 63 years old. What is the likelihood of an Adverse Event if he takes Product X?\n",
    "\"\"\"\n",
    "response = get_completion_bmi(user_prompt)\n",
    "print(response)"
   ]
  },
  {
   "cell_type": "code",
   "execution_count": 9,
   "id": "70a899ac-60a9-4ddd-9dbd-27dbfb414e3d",
   "metadata": {
    "tags": []
   },
   "outputs": [
    {
     "name": "stdout",
     "output_type": "stream",
     "text": [
      "First, we need to convert the patient's weight and height to metric units. The patient weighs approximately 99.8 kg and is 1.73 meters tall. \n",
      "\n",
      "Next, we need to calculate the patient's BMI using the formula BMI = weight (kg) / height^2 (m^2). \n",
      "\n",
      "BMI = 99.8 / (1.73)^2 = 33.3\n",
      "\n",
      "Since the patient's BMI is greater than 26, the likelihood of an Adverse Event is 20%.\n",
      "\n",
      "FINAL SUMMARY: The likelihood of an Adverse Event is 20%.\n"
     ]
    }
   ],
   "source": [
    "user_prompt = \"\"\"\n",
    "My Patient weighs 220 pounds and is 5ft 8 inches and is 63 years old. What is the likelihood of an Adverse Event if he takes Product X?\n",
    "\"\"\"\n",
    "response = get_completion_bmi(user_prompt)\n",
    "print(response)"
   ]
  },
  {
   "cell_type": "markdown",
   "id": "591e13b3-8b03-41f2-8411-221be03c6d61",
   "metadata": {},
   "source": [
    "## BMI AND AGE"
   ]
  },
  {
   "cell_type": "code",
   "execution_count": 17,
   "id": "5f580c26-10dd-4602-ad33-24bc29969674",
   "metadata": {
    "tags": []
   },
   "outputs": [],
   "source": [
    "def get_completion_bmi_and_age(user_prompt, model=\"gpt-3.5-turbo\"):\n",
    "    productx = \"\"\"Product X has been shown to cause adverse events in patients with high BMI.\n",
    "    Patients >24.1 BMI and <26 BMI have shown a 10% incidence of adverse events. \\\n",
    "    Patients >26 BMI have a 20% incidence of Adverse Events. \\\n",
    "    If the patient is over the age of 65, the likelihood of an Adverse event doubles\"\"\"\n",
    "    system_prompt = f\"\"\"\n",
    "    Answer the question based on the Knowledge Provided. If you do not know the answer say \"I do not know\".\n",
    "    If the question has the weight and height, calculate the BMI before answering. \\\n",
    "    If the height and weight in the question are NOT in imperial units, convert them to imperial units(weight to KGs and height to meters.). \\\n",
    "    \n",
    "    If the age of the patient is given state the age \\\n",
    "    Look at the knowledge provided. Does the likelihood of an adverse event change with age? \\\n",
    "    Is the age of the Patient at a point where the likelihood of the adverse event would be effected? \\\n",
    "    If so, calculate the new likelihood and provide it in the answer.\n",
    "\n",
    "    Give the answer in one line such as \"FINAL SUMMARY: The likelihood of an Adverse Event is XX%\"\n",
    "\n",
    "    KNOWLEDGE CUTOFF: {productx}\n",
    "    \"\"\"\n",
    "    messages = [{'role':'system', 'content':system_prompt},\n",
    "                {\"role\": \"user\", \"content\": user_prompt}]\n",
    "    response = openai.ChatCompletion.create(\n",
    "        model=model,\n",
    "        messages=messages,\n",
    "        temperature=0, # this is the degree of randomness of the model's output\n",
    "    )\n",
    "    return response.choices[0].message[\"content\"]"
   ]
  },
  {
   "cell_type": "code",
   "execution_count": 19,
   "id": "0d2a4136-e269-411a-8254-f1a7744410bc",
   "metadata": {
    "tags": []
   },
   "outputs": [
    {
     "name": "stdout",
     "output_type": "stream",
     "text": [
      "Converting height to meters: 5ft 8in = 1.73m. Converting weight to kg: 170lbs = 77.11kg. Calculating BMI: 77.11kg / (1.73m)^2 = 25.72. The patient's BMI is between 24.1 and 26, so the likelihood of an Adverse Event is 10%. FINAL SUMMARY: The likelihood of an Adverse Event is 10%.\n"
     ]
    }
   ],
   "source": [
    "user_prompt = \"\"\"\n",
    "My Patient weighs 170 pounds and is 5ft 8 inches and is 60 years old. What is the likelihood of an Adverse Event if he takes Product X?\n",
    "\"\"\"\n",
    "response = get_completion_bmi_and_age(user_prompt)\n",
    "print(response)"
   ]
  },
  {
   "cell_type": "code",
   "execution_count": 20,
   "id": "2038c3af-b1bd-427a-8182-536c5d40b514",
   "metadata": {
    "tags": []
   },
   "outputs": [
    {
     "name": "stdout",
     "output_type": "stream",
     "text": [
      "Converting height to meters: 5ft 8in = 1.73m. Converting weight to kg: 170lbs = 77.11kg. Calculating BMI: 77.11kg / (1.73m)^2 = 25.7. The patient's BMI is between 24.1 and 26, so the likelihood of an Adverse Event is 10%. Additionally, since the patient is over 65 years old, the likelihood doubles to 20%. \n",
      "\n",
      "FINAL SUMMARY: The likelihood of an Adverse Event is 20%.\n"
     ]
    }
   ],
   "source": [
    "user_prompt = \"\"\"\n",
    "My Patient weighs 170 pounds and is 5ft 8 inches and is 70 years old. What is the likelihood of an Adverse Event if he takes Product X?\n",
    "\"\"\"\n",
    "response = get_completion_bmi_and_age(user_prompt)\n",
    "print(response)"
   ]
  },
  {
   "cell_type": "code",
   "execution_count": 21,
   "id": "0007f759-f3b4-482e-b751-7f6d50f04b0f",
   "metadata": {
    "tags": []
   },
   "outputs": [
    {
     "name": "stdout",
     "output_type": "stream",
     "text": [
      "Converting height to meters: 5ft 8in = 1.73m. Converting weight to kg: 220lbs = 99.79kg. Calculating BMI: 99.79kg / (1.73m)^2 = 33.29. The patient's BMI is greater than 26, so the likelihood of an Adverse Event is 20%. Since the patient is not over the age of 65, the likelihood remains at 20%. \n",
      "\n",
      "FINAL SUMMARY: The likelihood of an Adverse Event is 20%.\n"
     ]
    }
   ],
   "source": [
    "user_prompt = \"\"\"\n",
    "My Patient weighs 220 pounds and is 5ft 8 inches and is 63 years old. What is the likelihood of an Adverse Event if he takes Product X?\n",
    "\"\"\"\n",
    "response = get_completion_bmi_and_age(user_prompt)\n",
    "print(response)"
   ]
  },
  {
   "cell_type": "code",
   "execution_count": 22,
   "id": "5a3a86a8-d19a-40f2-b07c-577e799663a5",
   "metadata": {
    "tags": []
   },
   "outputs": [
    {
     "name": "stdout",
     "output_type": "stream",
     "text": [
      "Converting height to meters: 5ft 8in = 1.73m. Converting weight to kg: 220lbs = 99.79kg. Calculating BMI: 99.79kg / (1.73m)^2 = 33.29. The patient's BMI is greater than 26, so the likelihood of an Adverse Event is 20%. Additionally, since the patient is over 65 years old, the likelihood doubles to 40%. \n",
      "\n",
      "FINAL SUMMARY: The likelihood of an Adverse Event is 40%.\n"
     ]
    }
   ],
   "source": [
    "user_prompt = \"\"\"\n",
    "My Patient weighs 220 pounds and is 5ft 8 inches and is 75 years old. What is the likelihood of an Adverse Event if he takes Product X?\n",
    "\"\"\"\n",
    "response = get_completion_bmi_and_age(user_prompt)\n",
    "print(response)"
   ]
  },
  {
   "cell_type": "markdown",
   "id": "37555bcc-d4f5-4f52-bbb9-2f39285eae96",
   "metadata": {},
   "source": [
    "## BMI AND AGE but calculate age"
   ]
  },
  {
   "cell_type": "code",
   "execution_count": 23,
   "id": "ca1e9bb9-cf26-46cc-a133-94639b23d660",
   "metadata": {
    "tags": []
   },
   "outputs": [],
   "source": [
    "def get_completion_bmi_and_age_2(user_prompt, model=\"gpt-3.5-turbo\"):\n",
    "    productx = \"\"\"Product X has been shown to cause adverse events in patients with high BMI.\n",
    "    Patients >24.1 BMI and <26 BMI have shown a 10% incidence of adverse events. \\\n",
    "    Patients >26 BMI have a 20% incidence of Adverse Events. \\\n",
    "    If the patient is over the age of 65, the likelihood of an Adverse event doubles\"\"\"\n",
    "    system_prompt = f\"\"\"\n",
    "    Answer the question based on the Knowledge Provided. If you do not know the answer say \"I do not know\".\n",
    "    If the question has the weight and height, calculate the BMI before answering. \\\n",
    "    If the height and weight in the question are NOT in imperial units, convert them to imperial units(weight to KGs and height to meters.). \\\n",
    "    \n",
    "    If the age of the patient is given state the age \\\n",
    "    If the date of birth of the patient is given, calculate the age. Today's date is January 5, 2023. State this age\\\n",
    "    \n",
    "    Look at the knowledge provided. Does the likelihood of an adverse event change with age? \\\n",
    "    Is the age of the Patient at a point where the likelihood of the adverse event would be effected? \\\n",
    "    If so, calculate the new likelihood and provide it in the answer.\n",
    "\n",
    "    Give the answer in one line such as \"FINAL SUMMARY: The likelihood of an Adverse Event is XX%\"\n",
    "\n",
    "    KNOWLEDGE CUTOFF: {productx}\n",
    "    \"\"\"\n",
    "    messages = [{'role':'system', 'content':system_prompt},\n",
    "                {\"role\": \"user\", \"content\": user_prompt}]\n",
    "    response = openai.ChatCompletion.create(\n",
    "        model=model,\n",
    "        messages=messages,\n",
    "        temperature=0, # this is the degree of randomness of the model's output\n",
    "    )\n",
    "    return response.choices[0].message[\"content\"]"
   ]
  },
  {
   "cell_type": "code",
   "execution_count": 24,
   "id": "037d4d94-602b-4c74-867e-0165923815ff",
   "metadata": {
    "tags": []
   },
   "outputs": [
    {
     "name": "stdout",
     "output_type": "stream",
     "text": [
      "First, we need to convert the height and weight to metric units. The patient weighs 77.11 kg and is 1.73 meters tall. \n",
      "\n",
      "Next, we need to calculate the BMI: BMI = weight (kg) / height^2 (m^2). \n",
      "\n",
      "BMI = 77.11 / (1.73^2) = 25.72. \n",
      "\n",
      "Since the patient's BMI is between 24.1 and 26, the likelihood of an Adverse Event is 10%. \n",
      "\n",
      "Since the patient is not over the age of 65, the likelihood of an Adverse Event remains at 10%. \n",
      "\n",
      "FINAL SUMMARY: The likelihood of an Adverse Event is 10%.\n"
     ]
    }
   ],
   "source": [
    "user_prompt = \"\"\"\n",
    "My Patient weighs 170 pounds and is 5ft 8 inches and is 60 years old. What is the likelihood of an Adverse Event if he takes Product X?\n",
    "\"\"\"\n",
    "response = get_completion_bmi_and_age_2(user_prompt)\n",
    "print(response)"
   ]
  },
  {
   "cell_type": "code",
   "execution_count": 25,
   "id": "aff412ca-ef50-4f17-92a1-d56a93c59a98",
   "metadata": {
    "tags": []
   },
   "outputs": [
    {
     "name": "stdout",
     "output_type": "stream",
     "text": [
      "First, we need to convert the height and weight to metric units. The patient weighs 77.1 kg and is 1.73 meters tall. \n",
      "\n",
      "Next, we need to calculate the BMI: BMI = weight (kg) / height^2 (m^2). \n",
      "\n",
      "BMI = 77.1 / (1.73^2) = 25.8 \n",
      "\n",
      "Since the patient's BMI is between 24.1 and 26, the likelihood of an Adverse Event is 10%. \n",
      "\n",
      "The patient's age is 42 years old (as of January 5, 2023). \n",
      "\n",
      "FINAL SUMMARY: The likelihood of an Adverse Event is 10%.\n"
     ]
    }
   ],
   "source": [
    "user_prompt = \"\"\"\n",
    "My Patient weighs 170 pounds and is 5ft 8 inches and was born on August 5, 1980. What is the likelihood of an Adverse Event if he takes Product X?\n",
    "\"\"\"\n",
    "response = get_completion_bmi_and_age_2(user_prompt)\n",
    "print(response)"
   ]
  },
  {
   "cell_type": "code",
   "execution_count": 27,
   "id": "5c8cc8a5-a9ab-4a3e-9e2c-4e3cd9018a21",
   "metadata": {
    "tags": []
   },
   "outputs": [
    {
     "name": "stdout",
     "output_type": "stream",
     "text": [
      "First, we need to convert the height and weight to metric units. The patient weighs 77.1 kg and is 1.73 meters tall. \n",
      "\n",
      "Next, we need to calculate the patient's age. As of January 5, 2023, the patient is 72 years old. \n",
      "\n",
      "Based on the patient's BMI of 25.7, they fall into the category of >24.1 BMI and <26 BMI, which has a 10% incidence of adverse events. \n",
      "\n",
      "Since the patient is over the age of 65, the likelihood of an adverse event doubles. \n",
      "\n",
      "FINAL SUMMARY: The likelihood of an Adverse Event is 20%.\n"
     ]
    }
   ],
   "source": [
    "user_prompt = \"\"\"\n",
    "My Patient weighs 170 pounds and is 5ft 8 inches and was born on August 5, 1950. What is the likelihood of an Adverse Event if he takes Product X?\n",
    "\"\"\"\n",
    "response = get_completion_bmi_and_age_2(user_prompt)\n",
    "print(response)"
   ]
  },
  {
   "cell_type": "code",
   "execution_count": 28,
   "id": "a772c5cc-b7d3-461b-8315-cfe0d4da9794",
   "metadata": {
    "tags": []
   },
   "outputs": [
    {
     "name": "stdout",
     "output_type": "stream",
     "text": [
      "First, we need to convert the height and weight to metric units. The patient weighs 99.8 kg and is 1.73 meters tall. \n",
      "\n",
      "Next, we need to calculate the BMI: BMI = weight (kg) / height^2 (m^2). \n",
      "\n",
      "BMI = 99.8 / (1.73^2) = 33.3\n",
      "\n",
      "Since the patient's BMI is greater than 26, the likelihood of an Adverse Event is 20%. \n",
      "\n",
      "The patient's age is 42 years old (as of January 5, 2023). \n",
      "\n",
      "FINAL SUMMARY: The likelihood of an Adverse Event is 20%.\n"
     ]
    }
   ],
   "source": [
    "user_prompt = \"\"\"\n",
    "My Patient weighs 220 pounds and is 5ft 8 inches and was born on August 5, 1980. What is the likelihood of an Adverse Event if he takes Product X?\n",
    "\"\"\"\n",
    "response = get_completion_bmi_and_age_2(user_prompt)\n",
    "print(response)"
   ]
  },
  {
   "cell_type": "code",
   "execution_count": 31,
   "id": "587e3c9a-001a-420c-b199-eae36108152b",
   "metadata": {
    "tags": []
   },
   "outputs": [
    {
     "name": "stdout",
     "output_type": "stream",
     "text": [
      "First, we need to convert the height and weight to metric units. The patient weighs 99.8 kg and is 1.73 meters tall. \n",
      "\n",
      "Next, we need to calculate the patient's age. As of January 5, 2023, the patient is 72 years old. \n",
      "\n",
      "Based on the patient's weight and height, their BMI is 33.3, which is greater than 26. Therefore, the patient falls into the category of patients with a 20% incidence of Adverse Events. \n",
      "\n",
      "Since the patient is over the age of 65, the likelihood of an Adverse Event doubles. \n",
      "\n",
      "FINAL SUMMARY: The likelihood of an Adverse Event is 40%.\n"
     ]
    }
   ],
   "source": [
    "user_prompt = \"\"\"\n",
    "My Patient weighs 220 pounds and is 5ft 8 inches and was born on August 5, 1950. What is the likelihood of an Adverse Event if he takes Product X?\n",
    "\"\"\"\n",
    "response = get_completion_bmi_and_age_2(user_prompt)\n",
    "print(response)"
   ]
  }
 ],
 "metadata": {
  "kernelspec": {
   "display_name": "Python 3 (ipykernel)",
   "language": "python",
   "name": "python3"
  },
  "language_info": {
   "codemirror_mode": {
    "name": "ipython",
    "version": 3
   },
   "file_extension": ".py",
   "mimetype": "text/x-python",
   "name": "python",
   "nbconvert_exporter": "python",
   "pygments_lexer": "ipython3",
   "version": "3.8.3"
  }
 },
 "nbformat": 4,
 "nbformat_minor": 5
}
